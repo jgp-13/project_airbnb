{
 "cells": [
  {
   "cell_type": "code",
   "execution_count": 1,
   "id": "1fdc5784-479e-46cb-b05b-68439dcc94a7",
   "metadata": {
    "executionCancelledAt": null,
    "executionTime": 2469,
    "lastExecutedAt": 1714136608190,
    "lastExecutedByKernel": "3ef23352-7ec2-4f84-94c0-43f0da95481d",
    "lastScheduledRunId": null,
    "lastSuccessfullyExecutedCode": "# We've loaded your first package for you! You can add as many cells as you need.\nimport numpy as np\n\n# Begin coding here ..."
   },
   "outputs": [],
   "source": [
    "# Import necessary packages\n",
    "import pandas as pd\n",
    "import numpy as np\n",
    "import missingno as msno\n",
    "import os\n",
    "import datetime as dt\n",
    "import re\n",
    "import matplotlib.pyplot as plt\n",
    "import seaborn as sns"
   ]
  },
  {
   "cell_type": "markdown",
   "id": "7e1cda4d-59e8-49e4-97aa-53aae85ad1b0",
   "metadata": {},
   "source": [
    "# Exploring Airbnb Market Trends"
   ]
  },
  {
   "cell_type": "markdown",
   "id": "5ba10744-da16-4001-897c-ac2715d113be",
   "metadata": {},
   "source": [
    "As a consultant working for a real estate start-up, you have collected Airbnb listing data from various sources to investigate the short-term rental market in New York. You'll analyze this data to provide insights on private rooms to the real estate company.\n",
    "\n",
    "There are three files in the `data` folder: `airbnb_price.csv`, `airbnb_room_type.xlsx`, `airbnb_last_review.tsv`.\n",
    "\n",
    "* What are the dates of the earliest and most recent reviews? Store these values as two separate variables with your preferred names.\n",
    "* How many of the listings are private rooms? Save this into any variable.\n",
    "* What is the average listing price? Round to the nearest two decimal places and save into a variable.\n",
    "* Combine the new variables into one DataFrame called `review_dates` with four columns in the following order:\n",
    "    1. `first_reviewed`,\n",
    "    2. `last_reviewed`,\n",
    "    3. `nb_private_rooms`, and\n",
    "    4. `avg_price`.\n",
    "    5. The DataFrame should only contain one row of values."
   ]
  },
  {
   "cell_type": "markdown",
   "id": "c747d469-ee97-4b95-880f-feefd5456042",
   "metadata": {
    "id": "bA5ajAmk7XH6"
   },
   "source": [
    "![NYC Skyline](nyc.jpg)\n",
    "\n",
    "Welcome to New York City, one of the most-visited cities in the world. There are many Airbnb listings in New York City to meet the high demand for temporary lodging for travelers, which can be anywhere between a few nights to many months. In this project, we will take a closer look at the New York Airbnb market by combining data from multiple file types like `.csv`, `.tsv`, and `.xlsx`.\n",
    "\n",
    "Recall that **CSV**, **TSV**, and **Excel** files are three common formats for storing data. \n",
    "Three files containing data on 2019 Airbnb listings are available to you:\n",
    "\n",
    "**data/airbnb_price.csv**\n",
    "This is a CSV file containing data on Airbnb listing prices and locations.\n",
    "- **`listing_id`**: unique identifier of listing\n",
    "- **`price`**: nightly listing price in USD\n",
    "- **`nbhood_full`**: name of borough and neighborhood where listing is located\n",
    "\n",
    "**data/airbnb_room_type.xlsx**\n",
    "This is an Excel file containing data on Airbnb listing descriptions and room types.\n",
    "- **`listing_id`**: unique identifier of listing\n",
    "- **`description`**: listing description\n",
    "- **`room_type`**: Airbnb has three types of rooms: shared rooms, private rooms, and entire homes/apartments\n",
    "\n",
    "**data/airbnb_last_review.tsv**\n",
    "This is a TSV file containing data on Airbnb host names and review dates.\n",
    "- **`listing_id`**: unique identifier of listing\n",
    "- **`host_name`**: name of listing host\n",
    "- **`last_review`**: date when the listing was last reviewed"
   ]
  },
  {
   "cell_type": "code",
   "execution_count": 2,
   "id": "24d412ff-8dca-4374-ae2c-47e799979d7d",
   "metadata": {},
   "outputs": [
    {
     "name": "stdout",
     "output_type": "stream",
     "text": [
      "C:\\Users\\josue\\Documents\\Python\\datacamp\\track_1\\Project_Airbnb\\data\\\n"
     ]
    }
   ],
   "source": [
    "# To read the files, first get the path for the 'data' directory, (should be in the same directory of the project)\n",
    "wrkdir=os.getcwd()+'\\data\\\\'\n",
    "print(wrkdir)\n",
    "if  not(os.path.isdir(wrkdir)): # Check if the directory exists.\n",
    "    raise FileNotFoundError(f'Directory {wrkdir} does not exist.')"
   ]
  },
  {
   "cell_type": "code",
   "execution_count": 33,
   "id": "9d0ece66-6668-4ee9-a274-cea5b23b2ea3",
   "metadata": {},
   "outputs": [
    {
     "name": "stdout",
     "output_type": "stream",
     "text": [
      "['airbnb_last_review.tsv', 'airbnb_price.csv', 'airbnb_room_type.xlsx']\n",
      "['C:\\\\Users\\\\josue\\\\Documents\\\\Python\\\\datacamp\\\\track_1\\\\Project_Airbnb\\\\data\\\\airbnb_last_review.tsv', 'C:\\\\Users\\\\josue\\\\Documents\\\\Python\\\\datacamp\\\\track_1\\\\Project_Airbnb\\\\data\\\\airbnb_price.csv', 'C:\\\\Users\\\\josue\\\\Documents\\\\Python\\\\datacamp\\\\track_1\\\\Project_Airbnb\\\\data\\\\airbnb_room_type.xlsx']\n"
     ]
    }
   ],
   "source": [
    "data_files=os.listdir('.\\data')\n",
    "print(data_files)\n",
    "data_paths=[wrkdir+file for file in data_files]\n",
    "print(data_paths)"
   ]
  },
  {
   "cell_type": "markdown",
   "id": "b6fc3223-9b52-4b3e-9a5a-f4673eeb48bd",
   "metadata": {},
   "source": [
    "#### Import and clean 'airbnb_last_review.tsv'"
   ]
  },
  {
   "cell_type": "code",
   "execution_count": 4,
   "id": "9ab2295c-2f39-4996-acdc-991a1c9c80ff",
   "metadata": {},
   "outputs": [],
   "source": [
    "# Analyse first the 'airbnb_last_review.tsv'\n",
    "df_last_review=pd.read_csv(data_paths[0],\n",
    "                           delimiter='\\t'\n",
    "                          )\n",
    "df0=df_last_review # for quickness\n",
    "assert id(df0)==id(df_last_review)"
   ]
  },
  {
   "cell_type": "code",
   "execution_count": 5,
   "id": "1ee01896-d1c6-4454-9724-c3defad6c8e9",
   "metadata": {},
   "outputs": [
    {
     "data": {
      "text/plain": [
       "0         May 21 2019\n",
       "1        July 05 2019\n",
       "2        June 22 2019\n",
       "3        June 24 2019\n",
       "4        June 09 2019\n",
       "             ...     \n",
       "25204    July 07 2019\n",
       "25205    July 07 2019\n",
       "25206    July 07 2019\n",
       "25207    July 07 2019\n",
       "25208    July 08 2019\n",
       "Name: last_review, Length: 25209, dtype: object"
      ]
     },
     "execution_count": 5,
     "metadata": {},
     "output_type": "execute_result"
    }
   ],
   "source": [
    "df0['last_review']"
   ]
  },
  {
   "cell_type": "code",
   "execution_count": 6,
   "id": "420c759f-1148-45ea-959b-bc86fe38f125",
   "metadata": {},
   "outputs": [],
   "source": [
    "df0['last_review']=pd.to_datetime(df0['last_review'],\n",
    "                                  format='%B %d %Y'\n",
    "                            )"
   ]
  },
  {
   "cell_type": "code",
   "execution_count": 7,
   "id": "85c52b25-7d88-4be3-89f9-eac688820783",
   "metadata": {},
   "outputs": [
    {
     "data": {
      "text/html": [
       "<div>\n",
       "<style scoped>\n",
       "    .dataframe tbody tr th:only-of-type {\n",
       "        vertical-align: middle;\n",
       "    }\n",
       "\n",
       "    .dataframe tbody tr th {\n",
       "        vertical-align: top;\n",
       "    }\n",
       "\n",
       "    .dataframe thead th {\n",
       "        text-align: right;\n",
       "    }\n",
       "</style>\n",
       "<table border=\"1\" class=\"dataframe\">\n",
       "  <thead>\n",
       "    <tr style=\"text-align: right;\">\n",
       "      <th></th>\n",
       "      <th>listing_id</th>\n",
       "      <th>host_name</th>\n",
       "      <th>last_review</th>\n",
       "    </tr>\n",
       "  </thead>\n",
       "  <tbody>\n",
       "    <tr>\n",
       "      <th>0</th>\n",
       "      <td>2595</td>\n",
       "      <td>Jennifer</td>\n",
       "      <td>2019-05-21</td>\n",
       "    </tr>\n",
       "    <tr>\n",
       "      <th>1</th>\n",
       "      <td>3831</td>\n",
       "      <td>LisaRoxanne</td>\n",
       "      <td>2019-07-05</td>\n",
       "    </tr>\n",
       "    <tr>\n",
       "      <th>2</th>\n",
       "      <td>5099</td>\n",
       "      <td>Chris</td>\n",
       "      <td>2019-06-22</td>\n",
       "    </tr>\n",
       "    <tr>\n",
       "      <th>3</th>\n",
       "      <td>5178</td>\n",
       "      <td>Shunichi</td>\n",
       "      <td>2019-06-24</td>\n",
       "    </tr>\n",
       "    <tr>\n",
       "      <th>4</th>\n",
       "      <td>5238</td>\n",
       "      <td>Ben</td>\n",
       "      <td>2019-06-09</td>\n",
       "    </tr>\n",
       "  </tbody>\n",
       "</table>\n",
       "</div>"
      ],
      "text/plain": [
       "   listing_id    host_name last_review\n",
       "0        2595     Jennifer  2019-05-21\n",
       "1        3831  LisaRoxanne  2019-07-05\n",
       "2        5099        Chris  2019-06-22\n",
       "3        5178     Shunichi  2019-06-24\n",
       "4        5238          Ben  2019-06-09"
      ]
     },
     "execution_count": 7,
     "metadata": {},
     "output_type": "execute_result"
    }
   ],
   "source": [
    "df0.sort_values(by='listing_id').head()"
   ]
  },
  {
   "cell_type": "code",
   "execution_count": 8,
   "id": "0a91b950-7f46-4a9a-81d7-b21cd841e94c",
   "metadata": {},
   "outputs": [
    {
     "name": "stdout",
     "output_type": "stream",
     "text": [
      "<class 'pandas.core.frame.DataFrame'>\n",
      "RangeIndex: 25209 entries, 0 to 25208\n",
      "Data columns (total 3 columns):\n",
      " #   Column       Non-Null Count  Dtype         \n",
      "---  ------       --------------  -----         \n",
      " 0   listing_id   25209 non-null  int64         \n",
      " 1   host_name    25201 non-null  object        \n",
      " 2   last_review  25209 non-null  datetime64[ns]\n",
      "dtypes: datetime64[ns](1), int64(1), object(1)\n",
      "memory usage: 591.0+ KB\n"
     ]
    }
   ],
   "source": [
    "df_last_review.info()"
   ]
  },
  {
   "cell_type": "markdown",
   "id": "2c454834-f728-449f-aa91-a92a9ae7217c",
   "metadata": {},
   "source": [
    "* There are 8 missing values in `host_name` column."
   ]
  },
  {
   "cell_type": "code",
   "execution_count": 9,
   "id": "2b9807e2-82c8-4cce-a7a5-a691ed9e02a9",
   "metadata": {},
   "outputs": [
    {
     "name": "stdout",
     "output_type": "stream",
     "text": [
      "       listing_id host_name last_review\n",
      "263        100184       NaN  2019-07-08\n",
      "3040      4183989       NaN  2019-05-23\n",
      "4039      6292866       NaN  2019-06-19\n",
      "4269      6786181       NaN  2019-06-19\n",
      "6338     12113879       NaN  2019-07-02\n",
      "8060     15648096       NaN  2019-07-07\n",
      "12128    21867710       NaN  2019-01-01\n",
      "12164    21901156       NaN  2019-01-01\n"
     ]
    }
   ],
   "source": [
    "print(df0[df0['host_name'].isna()])"
   ]
  },
  {
   "cell_type": "code",
   "execution_count": 10,
   "id": "be6ebe36-e105-4385-bdc4-6d00638a996e",
   "metadata": {},
   "outputs": [],
   "source": [
    "# Fill as anonymous\n",
    "df0.fillna('anonymous',inplace=True)"
   ]
  },
  {
   "cell_type": "markdown",
   "id": "fef7028e-2f61-459d-9652-7bcfd5f030ae",
   "metadata": {
    "jp-MarkdownHeadingCollapsed": true
   },
   "source": [
    "#### Import and clean 'airbnb_price.csv'"
   ]
  },
  {
   "cell_type": "code",
   "execution_count": 11,
   "id": "8e8087e2-03a8-46ef-b30e-85f48577f74f",
   "metadata": {},
   "outputs": [],
   "source": [
    "# Analyse second the 'airbnb_price.csv'\n",
    "df_price=pd.read_csv(data_paths[1],\n",
    "                           delimiter=',',\n",
    "                           # index_col=0\n",
    "                          )\n",
    "df1=df_price # for quickness\n",
    "assert id(df1)==id(df_price)"
   ]
  },
  {
   "cell_type": "code",
   "execution_count": 12,
   "id": "5345ca9b-486d-46dc-bc07-2ad9159d5ff2",
   "metadata": {},
   "outputs": [
    {
     "data": {
      "text/html": [
       "<div>\n",
       "<style scoped>\n",
       "    .dataframe tbody tr th:only-of-type {\n",
       "        vertical-align: middle;\n",
       "    }\n",
       "\n",
       "    .dataframe tbody tr th {\n",
       "        vertical-align: top;\n",
       "    }\n",
       "\n",
       "    .dataframe thead th {\n",
       "        text-align: right;\n",
       "    }\n",
       "</style>\n",
       "<table border=\"1\" class=\"dataframe\">\n",
       "  <thead>\n",
       "    <tr style=\"text-align: right;\">\n",
       "      <th></th>\n",
       "      <th>listing_id</th>\n",
       "      <th>price</th>\n",
       "      <th>nbhood_full</th>\n",
       "    </tr>\n",
       "  </thead>\n",
       "  <tbody>\n",
       "    <tr>\n",
       "      <th>0</th>\n",
       "      <td>2595</td>\n",
       "      <td>225 dollars</td>\n",
       "      <td>Manhattan, Midtown</td>\n",
       "    </tr>\n",
       "    <tr>\n",
       "      <th>1</th>\n",
       "      <td>3831</td>\n",
       "      <td>89 dollars</td>\n",
       "      <td>Brooklyn, Clinton Hill</td>\n",
       "    </tr>\n",
       "    <tr>\n",
       "      <th>2</th>\n",
       "      <td>5099</td>\n",
       "      <td>200 dollars</td>\n",
       "      <td>Manhattan, Murray Hill</td>\n",
       "    </tr>\n",
       "    <tr>\n",
       "      <th>3</th>\n",
       "      <td>5178</td>\n",
       "      <td>79 dollars</td>\n",
       "      <td>Manhattan, Hell's Kitchen</td>\n",
       "    </tr>\n",
       "    <tr>\n",
       "      <th>4</th>\n",
       "      <td>5238</td>\n",
       "      <td>150 dollars</td>\n",
       "      <td>Manhattan, Chinatown</td>\n",
       "    </tr>\n",
       "  </tbody>\n",
       "</table>\n",
       "</div>"
      ],
      "text/plain": [
       "   listing_id        price                nbhood_full\n",
       "0        2595  225 dollars         Manhattan, Midtown\n",
       "1        3831   89 dollars     Brooklyn, Clinton Hill\n",
       "2        5099  200 dollars     Manhattan, Murray Hill\n",
       "3        5178   79 dollars  Manhattan, Hell's Kitchen\n",
       "4        5238  150 dollars       Manhattan, Chinatown"
      ]
     },
     "execution_count": 12,
     "metadata": {},
     "output_type": "execute_result"
    }
   ],
   "source": [
    "df1.sort_values(by='listing_id').head()"
   ]
  },
  {
   "cell_type": "markdown",
   "id": "96e75176-5894-4db0-aa28-378765697171",
   "metadata": {},
   "source": [
    "* `price` Column needs to be cleaned.\n",
    "* `nbhood_full` could be divided in borugh and nbhood"
   ]
  },
  {
   "cell_type": "code",
   "execution_count": 13,
   "id": "32bbe93a-7daf-4c8c-bc10-af7e8c8fc3c3",
   "metadata": {},
   "outputs": [
    {
     "name": "stdout",
     "output_type": "stream",
     "text": [
      "<class 'pandas.core.frame.DataFrame'>\n",
      "RangeIndex: 25209 entries, 0 to 25208\n",
      "Data columns (total 3 columns):\n",
      " #   Column       Non-Null Count  Dtype \n",
      "---  ------       --------------  ----- \n",
      " 0   listing_id   25209 non-null  int64 \n",
      " 1   price        25209 non-null  object\n",
      " 2   nbhood_full  25209 non-null  object\n",
      "dtypes: int64(1), object(2)\n",
      "memory usage: 591.0+ KB\n"
     ]
    }
   ],
   "source": [
    "df1.info()"
   ]
  },
  {
   "cell_type": "code",
   "execution_count": 14,
   "id": "0cce183e-4697-466b-bf2c-71c880f3cd1f",
   "metadata": {},
   "outputs": [
    {
     "data": {
      "text/html": [
       "<div>\n",
       "<style scoped>\n",
       "    .dataframe tbody tr th:only-of-type {\n",
       "        vertical-align: middle;\n",
       "    }\n",
       "\n",
       "    .dataframe tbody tr th {\n",
       "        vertical-align: top;\n",
       "    }\n",
       "\n",
       "    .dataframe thead th {\n",
       "        text-align: right;\n",
       "    }\n",
       "</style>\n",
       "<table border=\"1\" class=\"dataframe\">\n",
       "  <thead>\n",
       "    <tr style=\"text-align: right;\">\n",
       "      <th></th>\n",
       "      <th>listing_id</th>\n",
       "    </tr>\n",
       "  </thead>\n",
       "  <tbody>\n",
       "    <tr>\n",
       "      <th>count</th>\n",
       "      <td>2.520900e+04</td>\n",
       "    </tr>\n",
       "    <tr>\n",
       "      <th>mean</th>\n",
       "      <td>2.068922e+07</td>\n",
       "    </tr>\n",
       "    <tr>\n",
       "      <th>std</th>\n",
       "      <td>1.102928e+07</td>\n",
       "    </tr>\n",
       "    <tr>\n",
       "      <th>min</th>\n",
       "      <td>2.595000e+03</td>\n",
       "    </tr>\n",
       "    <tr>\n",
       "      <th>25%</th>\n",
       "      <td>1.202273e+07</td>\n",
       "    </tr>\n",
       "    <tr>\n",
       "      <th>50%</th>\n",
       "      <td>2.234391e+07</td>\n",
       "    </tr>\n",
       "    <tr>\n",
       "      <th>75%</th>\n",
       "      <td>3.037669e+07</td>\n",
       "    </tr>\n",
       "    <tr>\n",
       "      <th>max</th>\n",
       "      <td>3.645581e+07</td>\n",
       "    </tr>\n",
       "  </tbody>\n",
       "</table>\n",
       "</div>"
      ],
      "text/plain": [
       "         listing_id\n",
       "count  2.520900e+04\n",
       "mean   2.068922e+07\n",
       "std    1.102928e+07\n",
       "min    2.595000e+03\n",
       "25%    1.202273e+07\n",
       "50%    2.234391e+07\n",
       "75%    3.037669e+07\n",
       "max    3.645581e+07"
      ]
     },
     "execution_count": 14,
     "metadata": {},
     "output_type": "execute_result"
    }
   ],
   "source": [
    "df1.describe()"
   ]
  },
  {
   "cell_type": "markdown",
   "id": "4eb61c2f-7226-4764-91c8-01c2d5a24b65",
   "metadata": {},
   "source": [
    "**NOTE:** The neighbourhood *'Bay Terrace'* is included in both 'Staten Island' and 'Queens' boroughts. It requires special attention."
   ]
  },
  {
   "cell_type": "code",
   "execution_count": 15,
   "id": "00ce508f-a5b4-403d-89ca-6398287f0b6b",
   "metadata": {},
   "outputs": [
    {
     "data": {
      "text/html": [
       "<div>\n",
       "<style scoped>\n",
       "    .dataframe tbody tr th:only-of-type {\n",
       "        vertical-align: middle;\n",
       "    }\n",
       "\n",
       "    .dataframe tbody tr th {\n",
       "        vertical-align: top;\n",
       "    }\n",
       "\n",
       "    .dataframe thead th {\n",
       "        text-align: right;\n",
       "    }\n",
       "</style>\n",
       "<table border=\"1\" class=\"dataframe\">\n",
       "  <thead>\n",
       "    <tr style=\"text-align: right;\">\n",
       "      <th></th>\n",
       "      <th>listing_id</th>\n",
       "      <th>price</th>\n",
       "      <th>nbhood_full</th>\n",
       "    </tr>\n",
       "  </thead>\n",
       "  <tbody>\n",
       "    <tr>\n",
       "      <th>2242</th>\n",
       "      <td>2467377</td>\n",
       "      <td>90 dollars</td>\n",
       "      <td>Queens, Bay Terrace</td>\n",
       "    </tr>\n",
       "    <tr>\n",
       "      <th>2697</th>\n",
       "      <td>3609762</td>\n",
       "      <td>184 dollars</td>\n",
       "      <td>Queens, Bay Terrace</td>\n",
       "    </tr>\n",
       "    <tr>\n",
       "      <th>3148</th>\n",
       "      <td>4357892</td>\n",
       "      <td>189 dollars</td>\n",
       "      <td>Queens, Bay Terrace</td>\n",
       "    </tr>\n",
       "    <tr>\n",
       "      <th>17449</th>\n",
       "      <td>29151631</td>\n",
       "      <td>32 dollars</td>\n",
       "      <td>Queens, Bay Terrace</td>\n",
       "    </tr>\n",
       "    <tr>\n",
       "      <th>21982</th>\n",
       "      <td>33275070</td>\n",
       "      <td>55 dollars</td>\n",
       "      <td>Staten Island, Bay Terrace, Staten Island</td>\n",
       "    </tr>\n",
       "  </tbody>\n",
       "</table>\n",
       "</div>"
      ],
      "text/plain": [
       "       listing_id        price                                nbhood_full\n",
       "2242      2467377   90 dollars                        Queens, Bay Terrace\n",
       "2697      3609762  184 dollars                        Queens, Bay Terrace\n",
       "3148      4357892  189 dollars                        Queens, Bay Terrace\n",
       "17449    29151631   32 dollars                        Queens, Bay Terrace\n",
       "21982    33275070   55 dollars  Staten Island, Bay Terrace, Staten Island"
      ]
     },
     "execution_count": 15,
     "metadata": {},
     "output_type": "execute_result"
    }
   ],
   "source": [
    "df1[df1['nbhood_full'].str.contains('Bay Terrace') ]"
   ]
  },
  {
   "cell_type": "code",
   "execution_count": 16,
   "id": "76d74072-5f3c-4d70-9a2b-6c91d11c10c8",
   "metadata": {},
   "outputs": [
    {
     "data": {
      "text/plain": [
       "borough\n",
       "Brooklyn         10466\n",
       "Manhattan        10322\n",
       "Queens            3456\n",
       "Bronx              698\n",
       "Staten Island      267\n",
       "Name: count, dtype: int64"
      ]
     },
     "execution_count": 16,
     "metadata": {},
     "output_type": "execute_result"
    }
   ],
   "source": [
    "df1['borough']=[re.search('^[A-Za-z ]+', nbhood).group() for nbhood in df1['nbhood_full']]\n",
    "df1['borough'].value_counts()"
   ]
  },
  {
   "cell_type": "code",
   "execution_count": 17,
   "id": "822fdf7e-904f-436e-934e-b35b95f32520",
   "metadata": {},
   "outputs": [],
   "source": [
    "df1['nbhood']=[re.search(\"[A-Z][A-Za-z'\\-. ]+$\", nbhood).group() for nbhood in df1['nbhood_full']]\n",
    "df1['nbhood']=df1['nbhood'].replace('Staten Island','Bay Terrace, Staten Island')"
   ]
  },
  {
   "cell_type": "code",
   "execution_count": 18,
   "id": "37d9cc68-fb96-4fb9-982e-fb7b61c73031",
   "metadata": {},
   "outputs": [],
   "source": [
    "comparison=df1['borough']+', '+df1['nbhood'] == df1['nbhood_full']\n",
    "assert comparison.all() # This ensure the two new columns are the same as the original one"
   ]
  },
  {
   "cell_type": "code",
   "execution_count": 19,
   "id": "31b9fde4-aa72-48a1-83a1-824d973fe020",
   "metadata": {},
   "outputs": [
    {
     "name": "stdout",
     "output_type": "stream",
     "text": [
      "['dollars']\n"
     ]
    }
   ],
   "source": [
    "# Now lets remove the currency in the 'price' column\n",
    "try:\n",
    "    currencies = list({re.search(r'([^\\d\\s]+|\\b[a-zA-Z]+\\b)', currency).group(1) for currency in df1['price']}) # To check the currencies\n",
    "except:\n",
    "    pass\n",
    "print(currencies)"
   ]
  },
  {
   "cell_type": "code",
   "execution_count": 20,
   "id": "c454560c-42bf-4b24-88af-d52093439f42",
   "metadata": {},
   "outputs": [],
   "source": [
    "try:\n",
    "    df1['price']=[re.search(\"^\\d+\", price).group() for price in df1['price']]\n",
    "except:\n",
    "    pass\n",
    "df1['price']=df1['price'].astype(int)\n",
    "df1['borough']=df1['borough'].astype('category')"
   ]
  },
  {
   "cell_type": "code",
   "execution_count": 21,
   "id": "576503af-29f6-43ee-99a2-8969e90c567c",
   "metadata": {},
   "outputs": [
    {
     "data": {
      "image/png": "[encoded data removed]",
      "text/plain": [
       "<Figure size 640x480 with 1 Axes>"
      ]
     },
     "metadata": {},
     "output_type": "display_data"
    }
   ],
   "source": [
    "# print(df1.head())\n",
    "g=sns.boxplot(data=df1,\n",
    "              y='price',\n",
    "              x='borough',\n",
    "              # kind='box',\n",
    "              # sym=\"\",\n",
    "              showfliers=False\n",
    "             )\n",
    "g.set_title('Prices without outliers')\n",
    "g.set(xlabel= 'Boroughs in NY',\n",
    "      ylabel='USD',\n",
    "     # ylim=(0,1000)\n",
    "     )\n",
    "plt.show()"
   ]
  },
  {
   "cell_type": "code",
   "execution_count": 22,
   "id": "387bd827-7443-43d3-8fe9-e12404d02728",
   "metadata": {},
   "outputs": [
    {
     "name": "stdout",
     "output_type": "stream",
     "text": [
      "   listing_id  price                nbhood_full    borough          nbhood\n",
      "0        2595    225         Manhattan, Midtown  Manhattan         Midtown\n",
      "1        3831     89     Brooklyn, Clinton Hill   Brooklyn    Clinton Hill\n",
      "2        5099    200     Manhattan, Murray Hill  Manhattan     Murray Hill\n",
      "3        5178     79  Manhattan, Hell's Kitchen  Manhattan  Hell's Kitchen\n",
      "4        5238    150       Manhattan, Chinatown  Manhattan       Chinatown\n",
      "<class 'pandas.core.frame.DataFrame'>\n",
      "RangeIndex: 25209 entries, 0 to 25208\n",
      "Data columns (total 5 columns):\n",
      " #   Column       Non-Null Count  Dtype   \n",
      "---  ------       --------------  -----   \n",
      " 0   listing_id   25209 non-null  int64   \n",
      " 1   price        25209 non-null  int64   \n",
      " 2   nbhood_full  25209 non-null  object  \n",
      " 3   borough      25209 non-null  category\n",
      " 4   nbhood       25209 non-null  object  \n",
      "dtypes: category(1), int64(2), object(2)\n",
      "memory usage: 812.7+ KB\n",
      "None\n"
     ]
    }
   ],
   "source": [
    "print(df1.head())\n",
    "print(df1.info())"
   ]
  },
  {
   "cell_type": "markdown",
   "id": "e2c054ab-b750-456d-b014-ed20db323266",
   "metadata": {},
   "source": [
    "#### Import and clean 'airbnb_room_type.xlsx'"
   ]
  },
  {
   "cell_type": "code",
   "execution_count": 23,
   "id": "07402fcc-ca60-444c-ae41-48bb25a982b1",
   "metadata": {},
   "outputs": [
    {
     "name": "stdout",
     "output_type": "stream",
     "text": [
      "['airbnb_room_type']\n"
     ]
    }
   ],
   "source": [
    "xlsx=pd.ExcelFile(data_paths[2])\n",
    "print(xlsx.sheet_names)\n",
    "# only one spread sheet"
   ]
  },
  {
   "cell_type": "code",
   "execution_count": 24,
   "id": "b08a9653-33c4-42a8-a7c2-c08978eeb265",
   "metadata": {},
   "outputs": [
    {
     "name": "stdout",
     "output_type": "stream",
     "text": [
      "   listing_id                                description        room_type\n",
      "0        2595                      Skylit Midtown Castle  Entire home/apt\n",
      "1        3831            Cozy Entire Floor of Brownstone  Entire home/apt\n",
      "2        5099  Large Cozy 1 BR Apartment In Midtown East  Entire home/apt\n",
      "3        5178            Large Furnished Room Near B'way     private room\n",
      "4        5238         Cute & Cozy Lower East Side 1 bdrm  Entire home/apt\n"
     ]
    }
   ],
   "source": [
    "df_room_type=xlsx.parse(0)\n",
    "print(df_room_type.head())\n",
    "df2=df_room_type # for quickness"
   ]
  },
  {
   "cell_type": "markdown",
   "id": "856b4747-b9a4-4f57-a1a6-72fdcaeadda7",
   "metadata": {},
   "source": [
    "* `room_type` column could be categorized."
   ]
  },
  {
   "cell_type": "code",
   "execution_count": 25,
   "id": "82477a26-c6e2-4b7e-9ee0-7ab36003f55f",
   "metadata": {},
   "outputs": [
    {
     "name": "stdout",
     "output_type": "stream",
     "text": [
      "<class 'pandas.core.frame.DataFrame'>\n",
      "RangeIndex: 25209 entries, 0 to 25208\n",
      "Data columns (total 3 columns):\n",
      " #   Column       Non-Null Count  Dtype \n",
      "---  ------       --------------  ----- \n",
      " 0   listing_id   25209 non-null  int64 \n",
      " 1   description  25199 non-null  object\n",
      " 2   room_type    25209 non-null  object\n",
      "dtypes: int64(1), object(2)\n",
      "memory usage: 591.0+ KB\n",
      "None\n"
     ]
    }
   ],
   "source": [
    "print(df2.info())"
   ]
  },
  {
   "cell_type": "markdown",
   "id": "82dbff20-cb68-4a6f-808b-8983215ec11c",
   "metadata": {},
   "source": [
    "* In the `description` column there are missing values."
   ]
  },
  {
   "cell_type": "code",
   "execution_count": 26,
   "id": "b8ed1f33-f419-4614-b165-ac1ddce34400",
   "metadata": {},
   "outputs": [
    {
     "name": "stdout",
     "output_type": "stream",
     "text": [
      "          listing_id                       description        room_type\n",
      "count   2.520900e+04                             25199            25209\n",
      "unique           NaN                             24946                9\n",
      "top              NaN  Loft Suite @ The Box House Hotel  Entire home/apt\n",
      "freq             NaN                                10             8458\n",
      "mean    2.068922e+07                               NaN              NaN\n",
      "std     1.102928e+07                               NaN              NaN\n",
      "min     2.595000e+03                               NaN              NaN\n",
      "25%     1.202273e+07                               NaN              NaN\n",
      "50%     2.234391e+07                               NaN              NaN\n",
      "75%     3.037669e+07                               NaN              NaN\n",
      "max     3.645581e+07                               NaN              NaN\n"
     ]
    }
   ],
   "source": [
    "print(df2.describe(include='all'))"
   ]
  },
  {
   "cell_type": "code",
   "execution_count": 27,
   "id": "d4fb2f86-24d5-4259-9b50-15ab083f35e8",
   "metadata": {},
   "outputs": [
    {
     "name": "stdout",
     "output_type": "stream",
     "text": [
      "['Entire home/apt' 'private room' 'Private room' 'entire home/apt'\n",
      " 'PRIVATE ROOM' 'shared room' 'ENTIRE HOME/APT' 'Shared room'\n",
      " 'SHARED ROOM']\n"
     ]
    }
   ],
   "source": [
    "print(df2['room_type'].unique())"
   ]
  },
  {
   "cell_type": "markdown",
   "id": "d7a4b5f4-3f84-4058-989e-acfa76e284aa",
   "metadata": {},
   "source": [
    "* Categories in `room_type` column must be cleaned."
   ]
  },
  {
   "cell_type": "code",
   "execution_count": 28,
   "id": "6400aabb-7d4d-43da-a19c-16fcb2c5f0f6",
   "metadata": {},
   "outputs": [
    {
     "name": "stdout",
     "output_type": "stream",
     "text": [
      "['entire home/apt', 'private room', 'shared room']\n",
      "   listing_id                                description        room_type\n",
      "0        2595                      Skylit Midtown Castle  entire home/apt\n",
      "1        3831            Cozy Entire Floor of Brownstone  entire home/apt\n",
      "2        5099  Large Cozy 1 BR Apartment In Midtown East  entire home/apt\n",
      "3        5178            Large Furnished Room Near B'way     private room\n",
      "4        5238         Cute & Cozy Lower East Side 1 bdrm  entire home/apt\n"
     ]
    }
   ],
   "source": [
    "df2['room_type']=df2['room_type'].str.lower()\n",
    "df2['room_type']=df2['room_type'].astype('category')\n",
    "room_cats=list(df2['room_type'].unique())\n",
    "print(room_cats)\n",
    "print(df2.head())"
   ]
  },
  {
   "cell_type": "markdown",
   "id": "e419d42c-a05c-49ad-bd69-7ac89e6ce88d",
   "metadata": {},
   "source": [
    "### Merge Time!"
   ]
  },
  {
   "cell_type": "code",
   "execution_count": 29,
   "id": "6a6b086a-9d43-4e0f-9449-3d70ff40dc9d",
   "metadata": {},
   "outputs": [],
   "source": [
    "df21=pd.merge(df2,df1,on='listing_id')\n",
    "df=pd.merge(df21,df0,on='listing_id')"
   ]
  },
  {
   "cell_type": "code",
   "execution_count": 30,
   "id": "9820bfaa-091e-46c1-910c-d16a9dc710f9",
   "metadata": {},
   "outputs": [
    {
     "data": {
      "text/html": [
       "<div>\n",
       "<style scoped>\n",
       "    .dataframe tbody tr th:only-of-type {\n",
       "        vertical-align: middle;\n",
       "    }\n",
       "\n",
       "    .dataframe tbody tr th {\n",
       "        vertical-align: top;\n",
       "    }\n",
       "\n",
       "    .dataframe thead th {\n",
       "        text-align: right;\n",
       "    }\n",
       "</style>\n",
       "<table border=\"1\" class=\"dataframe\">\n",
       "  <thead>\n",
       "    <tr style=\"text-align: right;\">\n",
       "      <th></th>\n",
       "      <th>listing_id</th>\n",
       "      <th>description</th>\n",
       "      <th>room_type</th>\n",
       "      <th>price</th>\n",
       "      <th>nbhood_full</th>\n",
       "      <th>borough</th>\n",
       "      <th>nbhood</th>\n",
       "      <th>host_name</th>\n",
       "      <th>last_review</th>\n",
       "    </tr>\n",
       "  </thead>\n",
       "  <tbody>\n",
       "    <tr>\n",
       "      <th>460</th>\n",
       "      <td>253475</td>\n",
       "      <td>Loft Suite @ The Box House Hotel</td>\n",
       "      <td>entire home/apt</td>\n",
       "      <td>199</td>\n",
       "      <td>Brooklyn, Greenpoint</td>\n",
       "      <td>Brooklyn</td>\n",
       "      <td>Greenpoint</td>\n",
       "      <td>The Box House Hotel</td>\n",
       "      <td>2019-06-24</td>\n",
       "    </tr>\n",
       "    <tr>\n",
       "      <th>550</th>\n",
       "      <td>294227</td>\n",
       "      <td>Loft Suite @ The Box House Hotel</td>\n",
       "      <td>entire home/apt</td>\n",
       "      <td>199</td>\n",
       "      <td>Brooklyn, Greenpoint</td>\n",
       "      <td>Brooklyn</td>\n",
       "      <td>Greenpoint</td>\n",
       "      <td>The Box House Hotel</td>\n",
       "      <td>2019-06-22</td>\n",
       "    </tr>\n",
       "    <tr>\n",
       "      <th>4709</th>\n",
       "      <td>7886635</td>\n",
       "      <td>NaN</td>\n",
       "      <td>private room</td>\n",
       "      <td>60</td>\n",
       "      <td>Brooklyn, Williamsburg</td>\n",
       "      <td>Brooklyn</td>\n",
       "      <td>Williamsburg</td>\n",
       "      <td>John</td>\n",
       "      <td>2019-06-18</td>\n",
       "    </tr>\n",
       "    <tr>\n",
       "      <th>4829</th>\n",
       "      <td>8192443</td>\n",
       "      <td>NaN</td>\n",
       "      <td>private room</td>\n",
       "      <td>60</td>\n",
       "      <td>Brooklyn, Williamsburg</td>\n",
       "      <td>Brooklyn</td>\n",
       "      <td>Williamsburg</td>\n",
       "      <td>John</td>\n",
       "      <td>2019-06-23</td>\n",
       "    </tr>\n",
       "    <tr>\n",
       "      <th>20687</th>\n",
       "      <td>32042717</td>\n",
       "      <td>Home Sweet Home</td>\n",
       "      <td>private room</td>\n",
       "      <td>90</td>\n",
       "      <td>Brooklyn, Williamsburg</td>\n",
       "      <td>Brooklyn</td>\n",
       "      <td>Williamsburg</td>\n",
       "      <td>Lisa</td>\n",
       "      <td>2019-07-02</td>\n",
       "    </tr>\n",
       "    <tr>\n",
       "      <th>23279</th>\n",
       "      <td>34341449</td>\n",
       "      <td>SINGLE ROOM AVAILABLE IN JAMAICA NEAR JFK &amp; LGA</td>\n",
       "      <td>private room</td>\n",
       "      <td>50</td>\n",
       "      <td>Queens, Hollis</td>\n",
       "      <td>Queens</td>\n",
       "      <td>Hollis</td>\n",
       "      <td>Moolchand</td>\n",
       "      <td>2019-06-30</td>\n",
       "    </tr>\n",
       "  </tbody>\n",
       "</table>\n",
       "</div>"
      ],
      "text/plain": [
       "       listing_id                                      description  \\\n",
       "460        253475                 Loft Suite @ The Box House Hotel   \n",
       "550        294227                 Loft Suite @ The Box House Hotel   \n",
       "4709      7886635                                              NaN   \n",
       "4829      8192443                                              NaN   \n",
       "20687    32042717                                  Home Sweet Home   \n",
       "23279    34341449  SINGLE ROOM AVAILABLE IN JAMAICA NEAR JFK & LGA   \n",
       "\n",
       "             room_type  price             nbhood_full   borough        nbhood  \\\n",
       "460    entire home/apt    199    Brooklyn, Greenpoint  Brooklyn    Greenpoint   \n",
       "550    entire home/apt    199    Brooklyn, Greenpoint  Brooklyn    Greenpoint   \n",
       "4709      private room     60  Brooklyn, Williamsburg  Brooklyn  Williamsburg   \n",
       "4829      private room     60  Brooklyn, Williamsburg  Brooklyn  Williamsburg   \n",
       "20687     private room     90  Brooklyn, Williamsburg  Brooklyn  Williamsburg   \n",
       "23279     private room     50          Queens, Hollis    Queens        Hollis   \n",
       "\n",
       "                 host_name last_review  \n",
       "460    The Box House Hotel  2019-06-24  \n",
       "550    The Box House Hotel  2019-06-22  \n",
       "4709                  John  2019-06-18  \n",
       "4829                  John  2019-06-23  \n",
       "20687                 Lisa  2019-07-02  \n",
       "23279            Moolchand  2019-06-30  "
      ]
     },
     "execution_count": 30,
     "metadata": {},
     "output_type": "execute_result"
    }
   ],
   "source": [
    "df_dups=df[df.duplicated(subset=['description','price','last_review'],keep='first')]\n",
    "df_dups"
   ]
  },
  {
   "cell_type": "markdown",
   "id": "7e355828-e36e-4af2-8987-38a783ad463f",
   "metadata": {},
   "source": [
    "To treat with the duplicates it would be required more information."
   ]
  },
  {
   "cell_type": "code",
   "execution_count": 31,
   "id": "372bc73b-e23d-4f48-8f8c-bfbf18a7cc0d",
   "metadata": {},
   "outputs": [],
   "source": [
    "\n",
    "Dict={'first_reviewed':df['last_review'].min(), \n",
    "      'last_reviewed':df['last_review'].max(),\n",
    "      'nb_private_rooms':df['room_type'].value_counts()['private room'],\n",
    "      'avg_price':float(round(df['price'].astype(float).mean(),2))\n",
    "     }\n",
    "review_dates=pd.DataFrame([Dict])"
   ]
  },
  {
   "cell_type": "markdown",
   "id": "c116cb23-0a9e-452e-a946-e6e18d08c72d",
   "metadata": {},
   "source": [
    "# DataCamp Solution"
   ]
  },
  {
   "cell_type": "code",
   "execution_count": 32,
   "id": "ec410638-24e6-4eda-a035-46a185fe31a7",
   "metadata": {},
   "outputs": [
    {
     "data": {
      "text/html": [
       "<div>\n",
       "<style scoped>\n",
       "    .dataframe tbody tr th:only-of-type {\n",
       "        vertical-align: middle;\n",
       "    }\n",
       "\n",
       "    .dataframe tbody tr th {\n",
       "        vertical-align: top;\n",
       "    }\n",
       "\n",
       "    .dataframe thead th {\n",
       "        text-align: right;\n",
       "    }\n",
       "</style>\n",
       "<table border=\"1\" class=\"dataframe\">\n",
       "  <thead>\n",
       "    <tr style=\"text-align: right;\">\n",
       "      <th></th>\n",
       "      <th>first_reviewed</th>\n",
       "      <th>last_reviewed</th>\n",
       "      <th>nb_private_rooms</th>\n",
       "      <th>avg_price</th>\n",
       "    </tr>\n",
       "  </thead>\n",
       "  <tbody>\n",
       "    <tr>\n",
       "      <th>0</th>\n",
       "      <td>2019-01-01</td>\n",
       "      <td>2019-07-09</td>\n",
       "      <td>11356</td>\n",
       "      <td>141.78</td>\n",
       "    </tr>\n",
       "  </tbody>\n",
       "</table>\n",
       "</div>"
      ],
      "text/plain": [
       "  first_reviewed last_reviewed  nb_private_rooms  avg_price\n",
       "0     2019-01-01    2019-07-09             11356     141.78"
      ]
     },
     "execution_count": 32,
     "metadata": {},
     "output_type": "execute_result"
    }
   ],
   "source": [
    "review_dates"
   ]
  }
 ],
 "metadata": {
  "colab": {
   "name": "Welcome to DataCamp Workspaces.ipynb",
   "provenance": []
  },
  "kernelspec": {
   "display_name": "Python 3 (ipykernel)",
   "language": "python",
   "name": "python3"
  },
  "language_info": {
   "codemirror_mode": {
    "name": "ipython",
    "version": 3
   },
   "file_extension": ".py",
   "mimetype": "text/x-python",
   "name": "python",
   "nbconvert_exporter": "python",
   "pygments_lexer": "ipython3",
   "version": "3.11.9"
  }
 },
 "nbformat": 4,
 "nbformat_minor": 5
}
